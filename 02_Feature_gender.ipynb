{
 "cells": [
  {
   "cell_type": "code",
   "execution_count": 2,
   "metadata": {},
   "outputs": [],
   "source": [
    "import pandas as pd\n",
    "import glob\n",
    "import feature_engineering\n",
    "import numpy as np"
   ]
  },
  {
   "cell_type": "code",
   "execution_count": 3,
   "metadata": {},
   "outputs": [],
   "source": [
    "def get_df_from_folder(foldername):\n",
    "    df = pd.read_excel(glob.glob(foldername+'*')[1])\n",
    "\n",
    "    for filename in glob.glob(foldername+'*')[1:]:\n",
    "        df_temp = pd.read_excel(filename)\n",
    "        df = pd.concat([df, df_temp])\n",
    "\n",
    "    df.reset_index(drop=True, inplace=True)\n",
    "    \n",
    "    return df\n",
    "\n",
    "def get_names_list(filepath):\n",
    "    list_names = pd.read_csv(filepath, header=None)\n",
    "    names = []\n",
    "    # Add the female and male names to their respective lists\n",
    "    for name in list_names[0]:\n",
    "        names.append(name)\n",
    "    return names\n",
    "\n",
    "def get_gender(name, female_names_list, male_names_list):\n",
    "    if name in female_names_list:\n",
    "        gender = \"female\"\n",
    "    elif name in male_names_list:\n",
    "        gender = \"male\"\n",
    "    else:\n",
    "        gender = \"unknown\"\n",
    "    return gender"
   ]
  },
  {
   "cell_type": "code",
   "execution_count": 4,
   "metadata": {},
   "outputs": [
    {
     "data": {
      "text/plain": [
       "150"
      ]
     },
     "execution_count": 4,
     "metadata": {},
     "output_type": "execute_result"
    }
   ],
   "source": [
    "# Text files with female and male names\n",
    "fnames_filepath = './../Data/Names/female_names.txt'\n",
    "mnames_filepath = './../Data/Names/male_names.txt'\n",
    "\n",
    "# Annotated data folder\n",
    "foldername = './../Data/annotated_xlsx/'\n",
    "len(glob.glob(foldername + '*'))"
   ]
  },
  {
   "cell_type": "code",
   "execution_count": 5,
   "metadata": {},
   "outputs": [],
   "source": [
    "df = get_df_from_folder(foldername)\n",
    "\n",
    "### Change \"Examinded by\" for annotated as neutral speech to annotated as not speech\n",
    "for index, row in df.iterrows():\n",
    "    #print(row)\n",
    "    if \"Examined by\"  in row['text']:\n",
    "        df.at[index, 'label'] = 5"
   ]
  },
  {
   "cell_type": "code",
   "execution_count": 6,
   "metadata": {},
   "outputs": [
    {
     "name": "stdout",
     "output_type": "stream",
     "text": [
      "total: 2242\n",
      "Powerless: 439\n",
      "Neutral: 1361\n",
      "Powerful 200\n",
      "Mixed: 66\n",
      "5: 176\n"
     ]
    }
   ],
   "source": [
    "print('total:', df.shape[0])\n",
    "print('Powerless:', df[df['label']==1].shape[0])\n",
    "print('Neutral:', df[df['label']==2].shape[0])\n",
    "print('Powerful', df[df['label']==3].shape[0])\n",
    "print('Mixed:', df[df['label']==4].shape[0])\n",
    "print('5:', df[df['label']==5].shape[0])"
   ]
  },
  {
   "cell_type": "code",
   "execution_count": 7,
   "metadata": {},
   "outputs": [],
   "source": [
    "# Keep only powerless, neutral and powerful sentences\n",
    "df = df[df['label'] <= 3]\n",
    "df.reset_index(drop=True, inplace=True)\n",
    "\n",
    "# Add features\n",
    "#df = feature_engineering.add_feature_columns(df)"
   ]
  },
  {
   "cell_type": "code",
   "execution_count": 8,
   "metadata": {},
   "outputs": [
    {
     "data": {
      "text/plain": [
       "2000"
      ]
     },
     "execution_count": 8,
     "metadata": {},
     "output_type": "execute_result"
    }
   ],
   "source": [
    "df.shape[0]"
   ]
  },
  {
   "cell_type": "code",
   "execution_count": 8,
   "metadata": {},
   "outputs": [],
   "source": [
    "fname_list = get_names_list(fnames_filepath)\n",
    "mname_list = get_names_list(mnames_filepath)"
   ]
  },
  {
   "cell_type": "code",
   "execution_count": 9,
   "metadata": {},
   "outputs": [],
   "source": [
    "df['gender'] = df.apply(lambda row: get_gender(row['first_name'], fname_list, mname_list), axis=1)"
   ]
  },
  {
   "cell_type": "code",
   "execution_count": 10,
   "metadata": {},
   "outputs": [],
   "source": [
    "df.to_csv('./../Data/Old_Bailey_speech_features_v1.csv')"
   ]
  },
  {
   "cell_type": "code",
   "execution_count": null,
   "metadata": {},
   "outputs": [],
   "source": []
  },
  {
   "cell_type": "code",
   "execution_count": null,
   "metadata": {},
   "outputs": [],
   "source": []
  },
  {
   "cell_type": "code",
   "execution_count": null,
   "metadata": {},
   "outputs": [],
   "source": []
  }
 ],
 "metadata": {
  "kernelspec": {
   "display_name": "Python 3",
   "language": "python",
   "name": "python3"
  },
  "language_info": {
   "codemirror_mode": {
    "name": "ipython",
    "version": 3
   },
   "file_extension": ".py",
   "mimetype": "text/x-python",
   "name": "python",
   "nbconvert_exporter": "python",
   "pygments_lexer": "ipython3",
   "version": "3.7.3"
  }
 },
 "nbformat": 4,
 "nbformat_minor": 2
}
